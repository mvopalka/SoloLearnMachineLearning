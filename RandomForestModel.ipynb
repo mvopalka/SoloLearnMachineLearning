{
 "cells": [
  {
   "cell_type": "markdown",
   "metadata": {
    "collapsed": true,
    "pycharm": {
     "name": "#%% md\n"
    }
   },
   "source": [
    "# Random Forest\n",
    "Random forest is model that is using different decision trees that are build on random splitting and copying data"
   ]
  },
  {
   "cell_type": "code",
   "execution_count": 1,
   "outputs": [],
   "source": [
    "import pandas as pd\n",
    "from sklearn.datasets import load_breast_cancer\n",
    "from sklearn.model_selection import train_test_split\n",
    "from sklearn.ensemble import RandomForestClassifier"
   ],
   "metadata": {
    "collapsed": false,
    "pycharm": {
     "name": "#%%\n"
    }
   }
  },
  {
   "cell_type": "code",
   "execution_count": 2,
   "outputs": [
    {
     "name": "stdout",
     "output_type": "stream",
     "text": [
      "prediction: [1]\n",
      "true value: 1\n",
      "random forest accuracy: 0.972027972027972\n"
     ]
    }
   ],
   "source": [
    "cancer_data = load_breast_cancer()\n",
    "df = pd.DataFrame(cancer_data['data'], columns=cancer_data['feature_names'])\n",
    "df['target'] = cancer_data['target']\n",
    "\n",
    "X = df[cancer_data['feature_names']].values\n",
    "y = df['target'].values\n",
    "\n",
    "X_train, X_test, y_train, y_test = train_test_split(X, y, random_state=101)\n",
    "\n",
    "rf = RandomForestClassifier()\n",
    "rf.fit(X_train, y_train)\n",
    "print(\"prediction:\", rf.predict([X_test[0]]))\n",
    "print(\"true value:\", y_test[0])\n",
    "print(\"random forest accuracy:\", rf.score(X_test, y_test))"
   ],
   "metadata": {
    "collapsed": false,
    "pycharm": {
     "name": "#%%\n"
    }
   }
  },
  {
   "cell_type": "markdown",
   "source": [
    "#### Compare to decision tree"
   ],
   "metadata": {
    "collapsed": false,
    "pycharm": {
     "name": "#%% md\n"
    }
   }
  },
  {
   "cell_type": "code",
   "execution_count": 3,
   "outputs": [
    {
     "name": "stdout",
     "output_type": "stream",
     "text": [
      "Decision tree score: 0.9090909090909091\n",
      "Random forest score: 0.972027972027972\n"
     ]
    }
   ],
   "source": [
    "from sklearn.tree import DecisionTreeClassifier\n",
    "dt = DecisionTreeClassifier()\n",
    "dt.fit(X_train, y_train)\n",
    "print(\"Decision tree score:\", dt.score(X_test, y_test))\n",
    "print(\"Random forest score:\", rf.score(X_test, y_test))"
   ],
   "metadata": {
    "collapsed": false,
    "pycharm": {
     "name": "#%%\n"
    }
   }
  },
  {
   "cell_type": "markdown",
   "source": [
    "#### RandomForestClassifier parameters\n",
    "To constructor\n",
    "- Same parameters like decision tree:\n",
    " - <b>max_depth</b>\n",
    " - <b>max_depth</b>\n",
    " - <b>min_samples_leaf</b>\n",
    "- New parameters\n",
    " - <b>n_estimators</b> The number of trees <i>(default 10)</i>\n",
    " - <b>max_features</b> the number of features to consider at each split <i>(default square root of p,\n",
    " where p is the number of features)</i>"
   ],
   "metadata": {
    "collapsed": false,
    "pycharm": {
     "name": "#%% md\n"
    }
   }
  },
  {
   "cell_type": "code",
   "execution_count": 4,
   "outputs": [
    {
     "name": "stdout",
     "output_type": "stream",
     "text": [
      "best params: {'n_estimators': 25}\n"
     ]
    }
   ],
   "source": [
    "from sklearn.model_selection import GridSearchCV\n",
    "rf = RandomForestClassifier(random_state=123)\n",
    "param_grid = {'n_estimators': [10, 25, 50, 75, 100]}\n",
    "gs = GridSearchCV(rf, param_grid, scoring='f1', cv=5)\n",
    "gs.fit(X, y)\n",
    "print(\"best params:\", gs.best_params_)"
   ],
   "metadata": {
    "collapsed": false,
    "pycharm": {
     "name": "#%%\n"
    }
   }
  },
  {
   "cell_type": "code",
   "source": [
    "n_estimators = range(1, 101)\n",
    "param_grid = {'n_estimators': n_estimators}\n",
    "rf = RandomForestClassifier()\n",
    "gs = GridSearchCV(rf, param_grid, cv=5)\n",
    "gs.fit(X, y)\n",
    "scores = gs.cv_results_['mean_test_score']\n",
    "print(scores)"
   ],
   "metadata": {
    "collapsed": false,
    "pycharm": {
     "name": "#%%\n"
    }
   },
   "execution_count": 5,
   "outputs": [
    {
     "name": "stdout",
     "output_type": "stream",
     "text": [
      "[0.91386431 0.91558764 0.93150132 0.95081509 0.9402422  0.95609377\n",
      " 0.95432386 0.95784816 0.95964912 0.95433939 0.95960255 0.95783263\n",
      " 0.95607825 0.9490607  0.95432386 0.95786369 0.95607825 0.95079957\n",
      " 0.95784816 0.95783263 0.95786369 0.95435491 0.95961807 0.95609377\n",
      " 0.95607825 0.95955597 0.96135693 0.95609377 0.9596336  0.95784816\n",
      " 0.96138798 0.96314237 0.95784816 0.96137246 0.96489676 0.95784816\n",
      " 0.96312684 0.96662009 0.95784816 0.95256948 0.95960255 0.95430834\n",
      " 0.96663562 0.96135693 0.95783263 0.95784816 0.96312684 0.96312684\n",
      " 0.96137246 0.95783263 0.96312684 0.95960255 0.96135693 0.95784816\n",
      " 0.95607825 0.96312684 0.95960255 0.97014439 0.95783263 0.95960255\n",
      " 0.95960255 0.95784816 0.95960255 0.95784816 0.95609377 0.95255395\n",
      " 0.96312684 0.95607825 0.9648657  0.95960255 0.96488123 0.96134141\n",
      " 0.96837448 0.96485018 0.96489676 0.96134141 0.95609377 0.96488123\n",
      " 0.96312684 0.96662009 0.95960255 0.95786369 0.95960255 0.96662009\n",
      " 0.96312684 0.96135693 0.96311132 0.96312684 0.95958702 0.96311132\n",
      " 0.95433939 0.95960255 0.96311132 0.95958702 0.96137246 0.96311132\n",
      " 0.95256948 0.96311132 0.96135693 0.96488123]\n"
     ]
    }
   ]
  },
  {
   "cell_type": "code",
   "execution_count": 6,
   "outputs": [
    {
     "data": {
      "text/plain": "<Figure size 432x288 with 1 Axes>",
      "image/png": "[encoded data removed]"
     },
     "metadata": {
      "needs_background": "light"
     },
     "output_type": "display_data"
    }
   ],
   "source": [
    "import matplotlib.pyplot as plt\n",
    "plt.plot(n_estimators, scores)\n",
    "plt.xlabel(\"n_estimators\")\n",
    "plt.ylabel(\"accuracy\")\n",
    "plt.xlim(0, 100)\n",
    "plt.ylim(0.9, 1)\n",
    "plt.show()"
   ],
   "metadata": {
    "collapsed": false,
    "pycharm": {
     "name": "#%%\n"
    }
   }
  },
  {
   "cell_type": "markdown",
   "source": [
    "At this graph we see that about 10 trees the accuracy increase"
   ],
   "metadata": {
    "collapsed": false,
    "pycharm": {
     "name": "#%% md\n"
    }
   }
  },
  {
   "cell_type": "markdown",
   "source": [
    "#### optimal random forest"
   ],
   "metadata": {
    "collapsed": false,
    "pycharm": {
     "name": "#%% md\n"
    }
   }
  },
  {
   "cell_type": "code",
   "execution_count": 7,
   "outputs": [
    {
     "data": {
      "text/plain": "RandomForestClassifier(n_estimators=10)"
     },
     "execution_count": 7,
     "metadata": {},
     "output_type": "execute_result"
    }
   ],
   "source": [
    "rf = RandomForestClassifier(n_estimators=10)\n",
    "rf.fit(X, y)"
   ],
   "metadata": {
    "collapsed": false,
    "pycharm": {
     "name": "#%%\n"
    }
   }
  },
  {
   "cell_type": "markdown",
   "source": [
    "### Finding best features"
   ],
   "metadata": {
    "collapsed": false,
    "pycharm": {
     "name": "#%% md\n"
    }
   }
  },
  {
   "cell_type": "code",
   "execution_count": 8,
   "outputs": [
    {
     "data": {
      "text/plain": "worst radius            0.309701\nmean concave points     0.183126\nworst concave points    0.115641\nmean perimeter          0.064119\nmean radius             0.058742\nworst concavity         0.050951\nradius error            0.049103\nmean texture            0.017197\nworst area              0.016512\nmean concavity          0.014696\ndtype: float64"
     },
     "execution_count": 8,
     "metadata": {},
     "output_type": "execute_result"
    }
   ],
   "source": [
    "rf = RandomForestClassifier(n_estimators=10, random_state=111)\n",
    "rf.fit(X_train, y_train)\n",
    "ft_imp = pd.Series(rf.feature_importances_, index=cancer_data.feature_names).sort_values(ascending=False)\n",
    "ft_imp.head(10)"
   ],
   "metadata": {
    "collapsed": false,
    "pycharm": {
     "name": "#%%\n"
    }
   }
  },
  {
   "cell_type": "code",
   "execution_count": 9,
   "outputs": [
    {
     "data": {
      "text/plain": "0.965034965034965"
     },
     "execution_count": 9,
     "metadata": {},
     "output_type": "execute_result"
    }
   ],
   "source": [
    "rf.score(X_test, y_test)"
   ],
   "metadata": {
    "collapsed": false,
    "pycharm": {
     "name": "#%%\n"
    }
   }
  },
  {
   "cell_type": "code",
   "execution_count": 10,
   "outputs": [
    {
     "name": "stdout",
     "output_type": "stream",
     "text": [
      "['worst radius', 'worst texture', 'worst perimeter', 'worst area', 'worst smoothness', 'worst compactness', 'worst concavity', 'worst concave points', 'worst symmetry', 'worst fractal dimension']\n"
     ]
    }
   ],
   "source": [
    "worst_cols = [col for col in df.columns if 'worst' in col]\n",
    "print(worst_cols)"
   ],
   "metadata": {
    "collapsed": false,
    "pycharm": {
     "name": "#%%\n"
    }
   }
  },
  {
   "cell_type": "code",
   "execution_count": 11,
   "outputs": [
    {
     "name": "stdout",
     "output_type": "stream",
     "text": [
      "0.972027972027972\n"
     ]
    }
   ],
   "source": [
    "X_worst = df[worst_cols]\n",
    "X_train, X_test, y_train, y_test = train_test_split(X_worst, y, random_state=101)\n",
    "rf = RandomForestClassifier(n_estimators=10, random_state=111)\n",
    "rf.fit(X_train, y_train)\n",
    "print(rf.score(X_test, y_test))"
   ],
   "metadata": {
    "collapsed": false,
    "pycharm": {
     "name": "#%%\n"
    }
   }
  },
  {
   "cell_type": "markdown",
   "source": [
    "#### Comparing Random forrest to Logistic regression when data cannot be split by line"
   ],
   "metadata": {
    "collapsed": false,
    "pycharm": {
     "name": "#%% md\n"
    }
   }
  },
  {
   "cell_type": "code",
   "execution_count": 12,
   "outputs": [
    {
     "name": "stdout",
     "output_type": "stream",
     "text": [
      "LR accuracy: 0.36\n",
      "RF accuracy: 0.86\n"
     ]
    }
   ],
   "source": [
    "from sklearn.datasets import make_circles\n",
    "from sklearn.model_selection import KFold\n",
    "from sklearn.linear_model import LogisticRegression\n",
    "from sklearn.ensemble import RandomForestClassifier\n",
    "import numpy as np\n",
    "\n",
    "X, y = make_circles(noise=0.2, factor=0.5, random_state=1)\n",
    "\n",
    "kf = KFold(n_splits=5, shuffle=True, random_state=1)\n",
    "lr_scores = []\n",
    "rf_scores = []\n",
    "for train_index, test_index in kf.split(X):\n",
    "    X_train, X_test = X[train_index], X[test_index]\n",
    "    y_train, y_test = y[train_index], y[test_index]\n",
    "    lr = LogisticRegression(solver='lbfgs')\n",
    "    lr.fit(X_train, y_train)\n",
    "    lr_scores.append(lr.score(X_test, y_test))\n",
    "    rf = RandomForestClassifier(n_estimators=100)\n",
    "    rf.fit(X_train, y_train)\n",
    "    rf_scores.append(rf.score(X_test, y_test))\n",
    "print(\"LR accuracy:\", np.mean(lr_scores))\n",
    "print(\"RF accuracy:\", np.mean(rf_scores))"
   ],
   "metadata": {
    "collapsed": false,
    "pycharm": {
     "name": "#%%\n"
    }
   }
  },
  {
   "cell_type": "markdown",
   "source": [
    "In classification, Random forest and Logistic regression are often best to benchmark, without tuning\n",
    "Random forest\n",
    "- Random forrest is build with many not very good Decision trees model, but when averaged, create an excellent  model,\n",
    "but random forest are bad in interpretability, which isn't important in most cases\n",
    "- Random forrest takes long on build and is also slower than Decision tree, but have great performance and there is\n",
    "much computational power"
   ],
   "metadata": {
    "collapsed": false,
    "pycharm": {
     "name": "#%% md\n"
    }
   }
  }
 ],
 "metadata": {
  "kernelspec": {
   "display_name": "Python 3",
   "language": "python",
   "name": "python3"
  },
  "language_info": {
   "codemirror_mode": {
    "name": "ipython",
    "version": 2
   },
   "file_extension": ".py",
   "mimetype": "text/x-python",
   "name": "python",
   "nbconvert_exporter": "python",
   "pygments_lexer": "ipython2",
   "version": "2.7.6"
  }
 },
 "nbformat": 4,
 "nbformat_minor": 0
}