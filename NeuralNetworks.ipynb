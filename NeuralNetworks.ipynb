{
 "cells": [
  {
   "cell_type": "markdown",
   "metadata": {
    "collapsed": true,
    "pycharm": {
     "name": "#%% md\n"
    }
   },
   "source": [
    "# Neural networks\n",
    "![Neuron Image](pictures/NeuralNetworks/SololearnMachineLearningNeuron.jpg \"Neuron\")\n",
    "\n",
    "<p>Each neuron have some inputs and some outputs (all outputs output same value).</p>\n",
    "<p>In neuron, there are computation similar to Logistic regression $ w_1*x_1+w_2*x_2+b $ where $w$ are coeficients\n",
    " (weights), $b$ is bias and $x$ are inputs.</p>\n",
    "<p>Neurons uses diffrent activation functions:</p>\n",
    "\n",
    "- sigmoid\n",
    " - $\\dfrac{1}{1+e^{-x}}$\n",
    " - $y = f(w_1*x_1+w_2*x_2+b) = \\dfrac{1}{1+e^{-(w_1*x_1+w_2*x_2+b)}}$\n",
    " - ![Sigmoid Image](pictures/NeuralNetworks/SololearnMachineLearningSigmoid.png \"Sigmoid fce\")\n",
    "- tanh\n",
    " - $f(x) = \\tanh{(x)} = \\dfrac{\\sinh{(x)}}{\\cosh{(x)}} = \\dfrac{e^{x}-e^{-x}}{e^{x}+e^{-x}}$\n",
    " - ![Tanh Image](pictures/NeuralNetworks/SololearnMachineLearningTanh.jpg \"Tanh fce\")\n",
    "- ReLu\n",
    " - $ ReLu(x) =\n",
    " \\begin{cases}\n",
    "    0 \\ \\ \\ \\text{ if } x \\leq 0 \\\\\n",
    "    x \\ \\ \\ \\text{ if } x > 0\n",
    " \\end{cases}$\n",
    " - ![ReLU Image](pictures/NeuralNetworks/SololearnMachineLearningReLU.jpg \"ReLU fce\")\n",
    "\n",
    "### Neurones are connected together and have 1 input layer, 1 output layer and X hidden layers\n",
    "\n",
    "![Neural Network Image](pictures/NeuralNetworks/SololearnMachineLearningNeuralNetwork.jpg \"Neural Network\")\n",
    "\n",
    "<p> To test network Loss function is used </p>\n",
    "\n",
    "$ \\text{cross entropy} =\n",
    " \\begin{cases}\n",
    "    p \\ \\ \\ \\ \\ \\ \\ \\ \\ \\ \\text{ if } y = 1 \\\\\n",
    "    1-p \\ \\ \\ \\text{ if } y = 0\n",
    " \\end{cases}$"
   ]
  },
  {
   "cell_type": "markdown",
   "source": [
    "## Building artificial dataset\n",
    "- <b>n_samples</b>: number of datapoints\n",
    "- <b>n_features</b>: number of features\n",
    "- <b>n_informative</b>: number of informative features\n",
    "- <b>n_redundant</b>: number of redundant features\n",
    "- <b>random_state</b>: random state to guarantee same result every time\n",
    "\n",
    "<i> There are other functions to generate datasets <b>make_circles </b> and <b>make_moons</b></i>"
   ],
   "metadata": {
    "collapsed": false,
    "pycharm": {
     "name": "#%% md\n"
    }
   }
  },
  {
   "cell_type": "code",
   "execution_count": 1,
   "metadata": {
    "pycharm": {
     "name": "#%%\n"
    }
   },
   "outputs": [
    {
     "data": {
      "text/plain": "<Figure size 432x288 with 1 Axes>",
      "image/png": "[encoded data removed]"
     },
     "metadata": {
      "needs_background": "light"
     },
     "output_type": "display_data"
    }
   ],
   "source": [
    "import numpy as np\n",
    "from sklearn.neural_network import MLPClassifier\n",
    "from sklearn.datasets import make_classification\n",
    "from sklearn.model_selection import train_test_split\n",
    "from matplotlib import pyplot as plt\n",
    "X, y = make_classification(n_features=2, n_redundant=0, n_informative=2, random_state=3)\n",
    "plt.scatter(X[y==0][:, 0], X[y==0][:, 1], s=100, edgecolors='k')\n",
    "plt.scatter(X[y==1][:, 0], X[y==1][:, 1], s=100, edgecolors='k', marker='^')\n",
    "plt.show()"
   ]
  },
  {
   "cell_type": "code",
   "execution_count": 2,
   "outputs": [
    {
     "name": "stdout",
     "output_type": "stream",
     "text": [
      "accuracy: 0.64\n"
     ]
    }
   ],
   "source": [
    "X_train, X_test, y_train, y_test = train_test_split(X, y, random_state=3)\n",
    "# mlp = MLPClassifier() # Makes warning because it needs more iteration\n",
    "mlp = MLPClassifier(max_iter=1000)\n",
    "mlp.fit(X_train, y_train)\n",
    "print(\"accuracy:\", mlp.score(X_test, y_test))"
   ],
   "metadata": {
    "collapsed": false,
    "pycharm": {
     "name": "#%%\n"
    }
   }
  },
  {
   "cell_type": "markdown",
   "source": [
    "### More parameters\n",
    "- <b>hidden_layer_sizes</b> shape of hidden layers <i>(default 1 layer 100 neurons)</i>\n",
    "- <b>alpha</b> how match coefficients change <i>(default 0.0001)</i>\n",
    "- <b>solver </b> sometimes different solver would give better performance <i>(default 'adam')</i>\n",
    " - options: 'lbfgs', 'sgd', 'adam'"
   ],
   "metadata": {
    "collapsed": false
   }
  },
  {
   "cell_type": "code",
   "execution_count": 3,
   "outputs": [
    {
     "name": "stdout",
     "output_type": "stream",
     "text": [
      "accuracy: 0.72\n"
     ]
    }
   ],
   "source": [
    "mlp = MLPClassifier(max_iter=1000, hidden_layer_sizes=(100,50))\n",
    "mlp.fit(X_train, y_train)\n",
    "print(\"accuracy:\", mlp.score(X_test, y_test))"
   ],
   "metadata": {
    "collapsed": false,
    "pycharm": {
     "name": "#%%\n"
    }
   }
  },
  {
   "cell_type": "code",
   "execution_count": 4,
   "outputs": [
    {
     "name": "stdout",
     "output_type": "stream",
     "text": [
      "accuracy: 0.76\n"
     ]
    }
   ],
   "source": [
    "mlp = MLPClassifier(max_iter=1000, hidden_layer_sizes=(100,50), alpha=0.0001, solver='adam', random_state=3)\n",
    "mlp.fit(X_train, y_train)\n",
    "print(\"accuracy:\", mlp.score(X_test, y_test))"
   ],
   "metadata": {
    "collapsed": false,
    "pycharm": {
     "name": "#%%\n"
    }
   }
  },
  {
   "cell_type": "markdown",
   "source": [
    "# Dataset MNIST"
   ],
   "metadata": {
    "collapsed": false,
    "pycharm": {
     "name": "#%% md\n"
    }
   }
  },
  {
   "cell_type": "code",
   "execution_count": 5,
   "outputs": [
    {
     "name": "stdout",
     "output_type": "stream",
     "text": [
      "(360, 64) (360,)\n",
      "[ 0.  0.  5. 13.  9.  1.  0.  0.  0.  0. 13. 15. 10. 15.  5.  0.  0.  3.\n",
      " 15.  2.  0. 11.  8.  0.  0.  4. 12.  0.  0.  8.  8.  0.  0.  5.  8.  0.\n",
      "  0.  9.  8.  0.  0.  4. 11.  0.  1. 12.  7.  0.  0.  2. 14.  5. 10. 12.\n",
      "  0.  0.  0.  0.  6. 13. 10.  0.  0.  0.]\n",
      "0\n"
     ]
    }
   ],
   "source": [
    "from sklearn.datasets import load_digits\n",
    "X, y = load_digits(n_class=2, return_X_y=True)\n",
    "print(X.shape, y.shape)\n",
    "print(X[0])\n",
    "print(y[0])"
   ],
   "metadata": {
    "collapsed": false,
    "pycharm": {
     "name": "#%%\n"
    }
   }
  },
  {
   "cell_type": "code",
   "execution_count": 6,
   "outputs": [
    {
     "name": "stdout",
     "output_type": "stream",
     "text": [
      "[[ 0.  0.  5. 13.  9.  1.  0.  0.]\n",
      " [ 0.  0. 13. 15. 10. 15.  5.  0.]\n",
      " [ 0.  3. 15.  2.  0. 11.  8.  0.]\n",
      " [ 0.  4. 12.  0.  0.  8.  8.  0.]\n",
      " [ 0.  5.  8.  0.  0.  9.  8.  0.]\n",
      " [ 0.  4. 11.  0.  1. 12.  7.  0.]\n",
      " [ 0.  2. 14.  5. 10. 12.  0.  0.]\n",
      " [ 0.  0.  6. 13. 10.  0.  0.  0.]]\n"
     ]
    }
   ],
   "source": [
    "print(X[0].reshape(8, 8))"
   ],
   "metadata": {
    "collapsed": false,
    "pycharm": {
     "name": "#%%\n"
    }
   }
  },
  {
   "cell_type": "code",
   "execution_count": 7,
   "outputs": [
    {
     "data": {
      "text/plain": "<Figure size 288x288 with 1 Axes>",
      "image/png": "[encoded data removed]"
     },
     "metadata": {},
     "output_type": "display_data"
    }
   ],
   "source": [
    "plt.matshow(X[0].reshape(8, 8), cmap=plt.cm.gray)\n",
    "plt.xticks(())\n",
    "plt.yticks(())\n",
    "plt.show()"
   ],
   "metadata": {
    "collapsed": false,
    "pycharm": {
     "name": "#%%\n"
    }
   }
  },
  {
   "cell_type": "code",
   "execution_count": 8,
   "outputs": [
    {
     "data": {
      "text/plain": "MLPClassifier()"
     },
     "execution_count": 8,
     "metadata": {},
     "output_type": "execute_result"
    }
   ],
   "source": [
    "X_train, X_test, y_train, y_test = train_test_split(X, y, random_state=2)\n",
    "mlp = MLPClassifier()\n",
    "mlp.fit(X_train, y_train)"
   ],
   "metadata": {
    "collapsed": false,
    "pycharm": {
     "name": "#%%\n"
    }
   }
  },
  {
   "cell_type": "code",
   "execution_count": 9,
   "outputs": [
    {
     "data": {
      "text/plain": "<Figure size 288x288 with 1 Axes>",
      "image/png": "[encoded data removed]"
     },
     "metadata": {},
     "output_type": "display_data"
    }
   ],
   "source": [
    "x = X_test[0]\n",
    "plt.matshow(x.reshape(8,8), cmap=plt.cm.gray)\n",
    "plt.xticks(())\n",
    "plt.yticks(())\n",
    "plt.show()"
   ],
   "metadata": {
    "collapsed": false,
    "pycharm": {
     "name": "#%%\n"
    }
   }
  },
  {
   "cell_type": "code",
   "execution_count": 10,
   "outputs": [
    {
     "name": "stdout",
     "output_type": "stream",
     "text": [
      "[0]\n"
     ]
    }
   ],
   "source": [
    "print(mlp.predict([x]))"
   ],
   "metadata": {
    "collapsed": false,
    "pycharm": {
     "name": "#%%\n"
    }
   }
  },
  {
   "cell_type": "code",
   "execution_count": 11,
   "outputs": [
    {
     "data": {
      "text/plain": "<Figure size 288x288 with 1 Axes>",
      "image/png": "[encoded data removed]"
     },
     "metadata": {},
     "output_type": "display_data"
    }
   ],
   "source": [
    "x = X_test[1]\n",
    "plt.matshow(x.reshape(8,8), cmap=plt.cm.gray)\n",
    "plt.xticks(())\n",
    "plt.yticks(())\n",
    "plt.show()"
   ],
   "metadata": {
    "collapsed": false,
    "pycharm": {
     "name": "#%%\n"
    }
   }
  },
  {
   "cell_type": "code",
   "execution_count": 12,
   "outputs": [
    {
     "name": "stdout",
     "output_type": "stream",
     "text": [
      "[1]\n"
     ]
    }
   ],
   "source": [
    "print(mlp.predict([x]))"
   ],
   "metadata": {
    "collapsed": false,
    "pycharm": {
     "name": "#%%\n"
    }
   }
  },
  {
   "cell_type": "code",
   "execution_count": 13,
   "outputs": [
    {
     "name": "stdout",
     "output_type": "stream",
     "text": [
      "accuracy: 1.0\n"
     ]
    }
   ],
   "source": [
    "print(\"accuracy:\", mlp.score(X_test, y_test))"
   ],
   "metadata": {
    "collapsed": false,
    "pycharm": {
     "name": "#%%\n"
    }
   }
  },
  {
   "cell_type": "markdown",
   "source": [
    "# All 10 numbers"
   ],
   "metadata": {
    "collapsed": false,
    "pycharm": {
     "name": "#%% md\n"
    }
   }
  },
  {
   "cell_type": "code",
   "execution_count": 14,
   "outputs": [
    {
     "name": "stdout",
     "output_type": "stream",
     "text": [
      "0.96\n"
     ]
    }
   ],
   "source": [
    "X, y = load_digits(return_X_y=True)\n",
    "X_train, X_test, y_train, y_test = train_test_split(X, y, random_state=2)\n",
    "mlp = MLPClassifier(random_state=2)\n",
    "mlp.fit(X_train, y_train)\n",
    "print(mlp.score(X_test, y_test))"
   ],
   "metadata": {
    "collapsed": false,
    "pycharm": {
     "name": "#%%\n"
    }
   }
  },
  {
   "cell_type": "code",
   "execution_count": 15,
   "outputs": [],
   "source": [
    "y_pred = mlp.predict(X_test)\n",
    "incorrect = X_test[y_pred != y_test]\n",
    "incorrect_true = y_test[y_pred != y_test]\n",
    "incorrect_pred = y_pred[y_pred != y_test]"
   ],
   "metadata": {
    "collapsed": false,
    "pycharm": {
     "name": "#%%\n"
    }
   }
  },
  {
   "cell_type": "code",
   "execution_count": 16,
   "outputs": [
    {
     "data": {
      "text/plain": "<Figure size 288x288 with 1 Axes>",
      "image/png": "[encoded data removed]"
     },
     "metadata": {},
     "output_type": "display_data"
    },
    {
     "name": "stdout",
     "output_type": "stream",
     "text": [
      "true value: 4\n",
      "predicted value: 9\n"
     ]
    }
   ],
   "source": [
    "j = 0\n",
    "plt.matshow(incorrect[j].reshape(8, 8), cmap=plt.cm.gray)\n",
    "plt.xticks(())\n",
    "plt.yticks(())\n",
    "plt.show()\n",
    "print(\"true value:\", incorrect_true[j])\n",
    "print(\"predicted value:\", incorrect_pred[j])"
   ],
   "metadata": {
    "collapsed": false,
    "pycharm": {
     "name": "#%%\n"
    }
   }
  },
  {
   "cell_type": "markdown",
   "source": [
    "# Open ML dataset\n",
    "\n",
    "Open ML has a database of large datasets <a href=\"https://www.openml.org\">OpenMl</a>"
   ],
   "metadata": {
    "collapsed": false,
    "pycharm": {
     "name": "#%% md\n"
    }
   }
  },
  {
   "cell_type": "code",
   "execution_count": 17,
   "outputs": [],
   "source": [
    "from sklearn.datasets import fetch_openml\n",
    "X, y = fetch_openml('mnist_784', version=1, return_X_y=True)"
   ],
   "metadata": {
    "collapsed": false,
    "pycharm": {
     "name": "#%%\n"
    }
   }
  },
  {
   "cell_type": "code",
   "execution_count": 18,
   "outputs": [
    {
     "name": "stdout",
     "output_type": "stream",
     "text": [
      "(70000, 784) (70000,)\n",
      "0.0 255.0\n",
      "['5' '0' '4' '1' '9']\n"
     ]
    }
   ],
   "source": [
    "print(X.shape, y.shape)\n",
    "print(np.min(X), np.max(X))\n",
    "print(y[0:5])"
   ],
   "metadata": {
    "collapsed": false,
    "pycharm": {
     "name": "#%%\n"
    }
   }
  },
  {
   "cell_type": "code",
   "execution_count": 19,
   "outputs": [],
   "source": [
    "X5 = X[y <= '3']\n",
    "y5 = y[y<= '3']"
   ],
   "metadata": {
    "collapsed": false,
    "pycharm": {
     "name": "#%%\n"
    }
   }
  },
  {
   "cell_type": "code",
   "execution_count": 20,
   "outputs": [
    {
     "data": {
      "text/plain": "MLPClassifier(hidden_layer_sizes=(6,), random_state=2, solver='sgd')"
     },
     "execution_count": 20,
     "metadata": {},
     "output_type": "execute_result"
    }
   ],
   "source": [
    "mlp = MLPClassifier(\n",
    "    hidden_layer_sizes=(6,),\n",
    "    max_iter=200, alpha=1e-4,\n",
    "    solver='sgd', random_state=2\n",
    ")\n",
    "mlp.fit(X5, y5)"
   ],
   "metadata": {
    "collapsed": false,
    "pycharm": {
     "name": "#%%\n"
    }
   }
  },
  {
   "cell_type": "code",
   "execution_count": 21,
   "outputs": [
    {
     "name": "stdout",
     "output_type": "stream",
     "text": [
      "[array([[-0.01115552, -0.08262686,  0.00865573, -0.01127273, -0.01387919,\n",
      "        -0.02957114],\n",
      "       [-0.05147713,  0.02078787, -0.03491842, -0.04063994,  0.02111255,\n",
      "         0.00507921],\n",
      "       [-0.06368948,  0.00236655, -0.05499934,  0.04973139,  0.06169476,\n",
      "        -0.00100447],\n",
      "       ...,\n",
      "       [ 0.03318755,  0.03072565,  0.04947687, -0.07695885, -0.0220411 ,\n",
      "        -0.00295469],\n",
      "       [ 0.03754471,  0.02460134,  0.03225042,  0.04285259, -0.07510508,\n",
      "        -0.05427305],\n",
      "       [-0.06503639, -0.0702354 , -0.02863186, -0.01949455,  0.07608824,\n",
      "        -0.05706929]]), array([[ 0.16384407, -2.14551277,  0.13976361,  0.98948196],\n",
      "       [-0.03473962, -0.21458043, -0.31142087,  0.89646536],\n",
      "       [-2.56156387, -0.46389099,  1.55137804,  1.35596203],\n",
      "       [ 1.32290022, -2.67013776,  0.18579525, -0.01939255],\n",
      "       [ 0.48546689, -0.68892009, -0.9192509 , -0.11729602],\n",
      "       [ 0.13038516,  0.09871053, -0.78004331, -0.21692752]])]\n",
      "2\n",
      "(784, 6)\n"
     ]
    }
   ],
   "source": [
    "print(mlp.coefs_)\n",
    "print(len(mlp.coefs_))\n",
    "print(mlp.coefs_[0].shape)"
   ],
   "metadata": {
    "collapsed": false,
    "pycharm": {
     "name": "#%%\n"
    }
   }
  },
  {
   "cell_type": "code",
   "execution_count": 22,
   "outputs": [
    {
     "data": {
      "text/plain": "<Figure size 360x288 with 6 Axes>",
      "image/png": "[encoded data removed]"
     },
     "metadata": {},
     "output_type": "display_data"
    }
   ],
   "source": [
    "fig, axes = plt.subplots(2, 3, figsize=(5, 4))\n",
    "for i, ax in enumerate(axes.ravel()):\n",
    "    coef = mlp.coefs_[0][:, i]\n",
    "    ax.matshow(coef.reshape(28, 28), cmap=plt.cm.gray)\n",
    "    ax.set_xticks(())\n",
    "    ax.set_yticks(())\n",
    "    ax.set_title(i + 1)\n",
    "plt.show()"
   ],
   "metadata": {
    "collapsed": false,
    "pycharm": {
     "name": "#%%\n"
    }
   }
  },
  {
   "cell_type": "markdown",
   "source": [
    "#### Neural networks are\n",
    "- bad at interpretability\n",
    "- they are not slow, but not as fast as other models\n",
    "- their best advantage is performance and it gets well with not structured data"
   ],
   "metadata": {
    "collapsed": false,
    "pycharm": {
     "name": "#%% md\n"
    }
   }
  }
 ],
 "metadata": {
  "kernelspec": {
   "display_name": "Python 3",
   "language": "python",
   "name": "python3"
  },
  "language_info": {
   "codemirror_mode": {
    "name": "ipython",
    "version": 3
   },
   "file_extension": ".py",
   "mimetype": "text/x-python",
   "name": "python",
   "nbconvert_exporter": "python",
   "pygments_lexer": "ipython3",
   "version": "3.8.3"
  }
 },
 "nbformat": 4,
 "nbformat_minor": 1
}